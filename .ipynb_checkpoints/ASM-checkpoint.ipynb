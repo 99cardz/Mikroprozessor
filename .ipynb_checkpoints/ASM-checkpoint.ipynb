{
 "cells": [
  {
   "cell_type": "code",
   "execution_count": 2,
   "id": "5a703057",
   "metadata": {},
   "outputs": [
    {
     "data": {
      "text/plain": [
       "'0x40'"
      ]
     },
     "execution_count": 2,
     "metadata": {},
     "output_type": "execute_result"
    }
   ],
   "source": [
    "def asm(cmd, op0, op1, op2, res):\n",
    "    return hex(cmd | (op0 << 8) | (op1 << 11) | (op2 << 14) | (res << 17))\n",
    "\n",
    "asm(0x40, 0, 0, 0, 0)"
   ]
  },
  {
   "cell_type": "code",
   "execution_count": 38,
   "id": "1d86e1e0",
   "metadata": {},
   "outputs": [
    {
     "data": {
      "text/plain": [
       "'++++++++++++++++++++++++++++++++'"
      ]
     },
     "execution_count": 38,
     "metadata": {},
     "output_type": "execute_result"
    }
   ],
   "source": [
    "\n",
    "'+'*ord(' ')"
   ]
  },
  {
   "cell_type": "code",
   "execution_count": 6,
   "id": "0047b659",
   "metadata": {},
   "outputs": [
    {
     "name": "stdout",
     "output_type": "stream",
     "text": [
      "euro: 7\n",
      "cents: 43\n",
      "2 euro\n",
      "2 euro\n",
      "2 euro\n",
      "1 euro\n",
      "20 cent\n",
      "20 cent\n",
      "2 cent\n",
      "1 cent\n"
     ]
    }
   ],
   "source": [
    "euro = int(input(\"euro: \"))\n",
    "cents = int(input(\"cents: \"))\n",
    "\n",
    "while euro >= 2:\n",
    "    print(\"2 euro\")\n",
    "    euro -= 2\n",
    "while euro >= 1:\n",
    "    print(\"1 euro\")\n",
    "    euro -= 1\n",
    "    \n",
    "while cents >= 50:\n",
    "    print(\"50 cent\")\n",
    "    cents -= 50\n",
    "while cents >= 20:\n",
    "    print(\"20 cent\")\n",
    "    cents -= 20\n",
    "while cents >= 10:\n",
    "    print(\"10 cent\")\n",
    "    cents -= 10\n",
    "while cents >= 5:\n",
    "    print(\"5 cent\")\n",
    "    cents -= 5\n",
    "while cents >= 2:\n",
    "    print(\"2 cent\")\n",
    "    cents -= 2\n",
    "while cents >= 1:\n",
    "    print(\"1 cent\")\n",
    "    cents -= 1\n",
    "\n"
   ]
  },
  {
   "cell_type": "code",
   "execution_count": 39,
   "id": "2438bd03",
   "metadata": {},
   "outputs": [],
   "source": [
    "path = \"programms/euro.bf\"\n",
    "\n",
    "def asm_bf(programm):\n",
    "    instructions = \"><+-.,[]\"\n",
    "    code = [\"0\" for n in range(2**16)]\n",
    "    i = 0\n",
    "    for c in programm:\n",
    "        if c in instructions:\n",
    "            code[i] = hex(instructions.index(c))[2:]\n",
    "            i += 1\n",
    "    return code\n",
    "\n",
    "with open(path, \"r\") as f:\n",
    "    p = asm_bf(f.read())\n",
    "\n",
    "import re\n",
    "name = re.search('/([^/.]+)\\.bf', path).group(1)\n",
    "with open(f\"hex/{name}.hex\", \"w+\") as f:\n",
    "    f.write(\"v3.0 hex words plain\\n\")\n",
    "    f.write(\" \".join(p))"
   ]
  }
 ],
 "metadata": {
  "kernelspec": {
   "display_name": "Python 3 (ipykernel)",
   "language": "python",
   "name": "python3"
  },
  "language_info": {
   "codemirror_mode": {
    "name": "ipython",
    "version": 3
   },
   "file_extension": ".py",
   "mimetype": "text/x-python",
   "name": "python",
   "nbconvert_exporter": "python",
   "pygments_lexer": "ipython3",
   "version": "3.11.3"
  }
 },
 "nbformat": 4,
 "nbformat_minor": 5
}
