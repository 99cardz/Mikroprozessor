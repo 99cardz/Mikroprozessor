{
 "cells": [
  {
   "cell_type": "code",
   "execution_count": 19,
   "id": "1acf09be",
   "metadata": {},
   "outputs": [
    {
     "data": {
      "text/plain": [
       "'0x80172'"
      ]
     },
     "execution_count": 19,
     "metadata": {},
     "output_type": "execute_result"
    }
   ],
   "source": [
    "def asm(cmd, op0, op1, op2, res):\n",
    "    return hex(cmd | (op0 << 8) | (op1 << 11) | (op2 << 14) | (res << 17))\n",
    "\n",
    "asm(0x72, 1, 0, 0, 4)"
   ]
  }
 ],
 "metadata": {
  "kernelspec": {
   "display_name": "Python 3 (ipykernel)",
   "language": "python",
   "name": "python3"
  },
  "language_info": {
   "codemirror_mode": {
    "name": "ipython",
    "version": 3
   },
   "file_extension": ".py",
   "mimetype": "text/x-python",
   "name": "python",
   "nbconvert_exporter": "python",
   "pygments_lexer": "ipython3",
   "version": "3.11.3"
  }
 },
 "nbformat": 4,
 "nbformat_minor": 5
}
